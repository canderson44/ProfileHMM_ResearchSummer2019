{
 "cells": [
  {
   "cell_type": "markdown",
   "metadata": {},
   "source": [
    "Program for separating useable ZMW CCSs from unusable. Useable if don't begin with 3' barcode and do end with 3' barcode. \n",
    "\n",
    "kept sequence must have 1 and 2 as follows:\n",
    "    1. \n",
    "        3' barcode in end region of sample (sample is forward transcript)\n",
    "        OR\n",
    "        3' barcode reverse complement in beginning region of sample (sample is rev compliment)\n",
    "    AND\n",
    "    2. \n",
    "        no 3' barcode in beginning region of sample (forward transcript)\n",
    "        no 3' barcode reverse complement in end region of sample (rc transcript)"
   ]
  },
  {
   "cell_type": "code",
   "execution_count": 12,
   "metadata": {},
   "outputs": [],
   "source": [
    "import numpy as np\n",
    "import random as rd"
   ]
  },
  {
   "cell_type": "code",
   "execution_count": 13,
   "metadata": {},
   "outputs": [],
   "source": [
    "#given DNA nucleotide, returns its complement\n",
    "def give_nuc_complement (nucleotide):\n",
    "    if nucleotide == \"A\":\n",
    "        return 'T'\n",
    "    elif nucleotide == 'C':\n",
    "        return 'G'\n",
    "    elif nucleotide == 'G':\n",
    "        return 'C'\n",
    "    elif nucleotide == 'T': \n",
    "        return 'A'\n",
    "    else: #\n",
    "        return '?'"
   ]
  },
  {
   "cell_type": "code",
   "execution_count": 14,
   "metadata": {},
   "outputs": [],
   "source": [
    "#generates reverse compliment. Returns rc in standard 5' to 3' direction\n",
    "def gen_rev_complement(sequence):\n",
    "    complement_list = []\n",
    "    for nuc in sequence:\n",
    "        complement_list.append(give_nuc_complement(nuc))\n",
    "    #have reverse complement, but it's backwards\n",
    "    complement_list.reverse()\n",
    "    return \"\".join(complement_list)\n",
    "\n",
    "'''#test this\n",
    "test_one = 'ACTG' #expected reverse complement: CAGT\n",
    "test_two = 'AAATG' #expect rc CATTT\n",
    "assert gen_rev_complement(test_one) == 'CAGT', \"expected CAGT but got: \" + gen_rev_complement(test_one)\n",
    "assert gen_rev_complement(test_two) == 'CATTT', \"expected CATTT but got: \" + gen_rev_complement(test_two)'''\n",
    "a=1"
   ]
  },
  {
   "cell_type": "code",
   "execution_count": 15,
   "metadata": {},
   "outputs": [],
   "source": [
    "#gets your beginning and ending sample from sequence. Either one is 1.5 * passed length. \n",
    "def get_beg_and_end(sample, barcode_length):\n",
    "    segment_length = int(1.5*barcode_length)\n",
    "    beg = sample[:segment_length]\n",
    "    end = sample[len(sample)-segment_length:]\n",
    "    return [beg,end]"
   ]
  },
  {
   "cell_type": "code",
   "execution_count": 16,
   "metadata": {},
   "outputs": [
    {
     "name": "stdout",
     "output_type": "stream",
     "text": [
      "len barcode 2 71\n",
      "len barcode 5 25\n",
      "len two adapter:  45\n"
     ]
    }
   ],
   "source": [
    "#barcodes_list elements: [5', CD1, CD2, CD3] \n",
    "                     #ie [5', 4_D01, 3_C01, 2_B01]\n",
    "barcodes_list = []\n",
    "with open('barcodes_for_profileHMM.fasta') as f: \n",
    "    for line in f:\n",
    "        line = line.strip()\n",
    "        if line[0]!='>':\n",
    "            barcodes_list.append(line)\n",
    "barcode_4 = barcodes_list[1]\n",
    "barcode_3 = barcodes_list[2]\n",
    "barcode_2 = barcodes_list[3]\n",
    "barcode_2_rc = gen_rev_complement(barcode_2)\n",
    "print('len barcode 2',len(barcode_2))\n",
    "print('len barcode 5', len(barcodes_list[0]))\n",
    "\n",
    "#adapter\n",
    "two_adapter = ''\n",
    "with open('two_B01.adapters.fasta') as f:\n",
    "    for line in f: \n",
    "        line = line.strip()\n",
    "#        print('line',line)\n",
    "        if line[0]!='>':\n",
    "            two_adapter = line\n",
    "print(\"len two adapter: \",len(two_adapter))\n",
    "            "
   ]
  },
  {
   "cell_type": "code",
   "execution_count": 17,
   "metadata": {},
   "outputs": [],
   "source": [
    "#test \"CCSs\"\n",
    "nucleotides = ['A','C','G','T']\n",
    "\n",
    "\n",
    "#generates a list of test strings given 3p barcode and its rev complement\n",
    "#list is: \n",
    "#exact matches to barcode:\n",
    "##endsIn3RC, begIn3RC, endIn3, begIn3, rand, endIn3\n",
    "#substituted, inserted, and deleted versions of barcode:\n",
    "#endIn3RC * 3, begIn3RC * 3, endIn3 * 3, begIn3 * 3, endIn3 * 3\n",
    "def gen_test_strings(barcode, barcode_rc):\n",
    "    test_strings = []\n",
    "\n",
    "    #First: exact matches\n",
    "    #exclude\n",
    "    test_end_in_3pBarcodeRC = \"\".join(rd.choices(nucleotides, k=1000)) + barcode_rc\n",
    "    test_strings.append(test_end_in_3pBarcodeRC)\n",
    "    #keep\n",
    "    test_beg_3pBarcodeRC = barcode_rc + \"\".join(rd.choices(nucleotides, k=1000))\n",
    "    test_strings.append(test_beg_3pBarcodeRC)\n",
    "    #keep\n",
    "    test_5pBarcodeRandom3pBarcode = barcodes_list[0] + \"\".join(rd.choices(nucleotides, k=1000)) + barcode\n",
    "    test_strings.append(test_5pBarcodeRandom3pBarcode)\n",
    "    #exclude\n",
    "    test_3pBarcodeThenRandom= barcode + \"\".join(rd.choices(nucleotides, k=(1000)))\n",
    "    test_strings.append(test_3pBarcodeThenRandom)\n",
    "    #exclude\n",
    "    test_random=\"\".join(rd.choices(nucleotides, k=(1000)))\n",
    "    test_strings.append(test_random)\n",
    "    #keep\n",
    "    test_endIn3pBarcode= \"\".join(rd.choices(nucleotides, k=1000)) + barcode\n",
    "    test_strings.append(test_endIn3pBarcode)\n",
    "\n",
    "\n",
    "    #Next: mutated matches\n",
    "    bar2_list = list(barcode)\n",
    "    rand_subs_list = rd.choices(np.arange(len(barcode)), k=int(len(barcode)/10)) #pacbio MUCH more accurate\n",
    "                                                            #here, error in sequencing is 10%\n",
    "                                                            #pacbio has error of about 0.001%\n",
    "                                                #source: https://www.pacb.com/uncategorized/a-closer-look-at-accuracy-in-pacbio/\n",
    "    sub_bar2_list = bar2_list.copy()\n",
    "    rand_nuc_list = rd.choices(nucleotides, k=len(rand_subs_list))\n",
    "    for i in np.arange(len(rand_nuc_list)):\n",
    "        sub_bar2_list[i] = rand_nuc_list[i]\n",
    "    sub_bar2_str = \"\".join(sub_bar2_list)\n",
    "    sub_bar2_str_rc = gen_rev_complement(sub_bar2_str)\n",
    "\n",
    "    insert_bar2_list = bar2_list.copy()\n",
    "    for i in np.arange(len(rand_nuc_list)):\n",
    "        insert_bar2_list.insert(i, rand_nuc_list[i])\n",
    "    insert_bar2_str = \"\".join(insert_bar2_list)\n",
    "    insert_bar2_str_rc = gen_rev_complement(insert_bar2_str)\n",
    "\n",
    "    delet_bar2_list = bar2_list.copy()\n",
    "    for i in np.arange(int(len(rand_nuc_list))):     \n",
    "        del bar2_list[i]\n",
    "    delet_bar2_str = \"\".join(delet_bar2_list)\n",
    "    delet_bar2_str_rc = gen_rev_complement(delet_bar2_str)\n",
    "\n",
    "    #exclude\n",
    "    test_end3RC_sub = \"\".join(rd.choices(nucleotides, k=1000)) + sub_bar2_str_rc\n",
    "    test_end3RC_insert = \"\".join(rd.choices(nucleotides, k=1000)) + insert_bar2_str_rc\n",
    "    test_end3RC_del = \"\".join(rd.choices(nucleotides, k=1000)) + delet_bar2_str_rc\n",
    "    test_strings.append(test_end3RC_sub)\n",
    "    test_strings.append(test_end3RC_insert)\n",
    "    test_strings.append(test_end3RC_del)\n",
    "    #keep\n",
    "    test_beg3RC_sub = sub_bar2_str_rc + \"\".join(rd.choices(nucleotides, k=1000))\n",
    "    test_beg3RC_insert = insert_bar2_str_rc + \"\".join(rd.choices(nucleotides, k=1000))\n",
    "    test_beg3RC_del = delet_bar2_str_rc + \"\".join(rd.choices(nucleotides, k=1000))\n",
    "    test_strings.append(test_beg3RC_sub)\n",
    "    test_strings.append(test_beg3RC_insert)\n",
    "    test_strings.append(test_beg3RC_del)\n",
    "\n",
    "    #keep\n",
    "    test_5pRand3p_sub = barcodes_list[0] + \"\".join(rd.choices(nucleotides, k=1000)) + sub_bar2_str\n",
    "    test_5pRand3p_insert = barcodes_list[0] + \"\".join(rd.choices(nucleotides, k=1000)) + insert_bar2_str\n",
    "    test_5pRand3p_del = barcodes_list[0] + \"\".join(rd.choices(nucleotides, k=1000)) + delet_bar2_str\n",
    "    test_strings.append(test_5pRand3p_sub)\n",
    "    test_strings.append(test_5pRand3p_insert)\n",
    "    test_strings.append(test_5pRand3p_del)\n",
    "\n",
    "    #exclude\n",
    "    test_beg3p_sub = sub_bar2_str + \"\".join(rd.choices(nucleotides, k=1000))\n",
    "    test_beg3p_insert = insert_bar2_str + \"\".join(rd.choices(nucleotides, k=(1000)))\n",
    "    test_beg3p_del = delet_bar2_str + \"\".join(rd.choices(nucleotides, k=(1000)))\n",
    "    test_strings.append(test_beg3p_sub)\n",
    "    test_strings.append(test_beg3p_insert)\n",
    "    test_strings.append(test_beg3p_del)\n",
    "\n",
    "    #keep\n",
    "    test_end3p_sub = \"\".join(rd.choices(nucleotides, k=1000)) + sub_bar2_str\n",
    "    test_end3p_insert = \"\".join(rd.choices(nucleotides, k=1000)) + insert_bar2_str\n",
    "    test_end3p_del = \"\".join(rd.choices(nucleotides, k=1000)) + delet_bar2_str\n",
    "    test_strings.append(test_end3p_sub) \n",
    "    test_strings.append(test_end3p_insert) \n",
    "    test_strings.append(test_end3p_del)\n",
    "    \n",
    "    return test_strings\n",
    "\n",
    "test_2B01_strings = gen_test_strings(barcode_2, barcode_2_rc)\n",
    "test_3C01_strings = gen_test_strings(barcode_3, gen_rev_complement(barcode_3))\n",
    "test_4D01_strings = gen_test_strings(barcode_4, gen_rev_complement(barcode_4))\n",
    "\n",
    "expected_keep_results = [False, True, True, False, False, True, False, False, False, True, True, True, \n",
    "                             True, True, True, False, False, False, \n",
    "                             True, True, True]\n",
    "#expected_keep_results"
   ]
  },
  {
   "cell_type": "code",
   "execution_count": 18,
   "metadata": {},
   "outputs": [
    {
     "data": {
      "text/plain": [
       "'#test csv file \\nf = open(\\'test_strings.csv\\',\\'w+\\')\\ni = 0\\nfor string in test_strings:\\n    f.write(\"\" + str(i)+\\',\\' + string + \\'\\n\\')\\n    i += 1\\nf.close()'"
      ]
     },
     "execution_count": 18,
     "metadata": {},
     "output_type": "execute_result"
    }
   ],
   "source": [
    "\n",
    "'''#test csv file \n",
    "f = open('test_strings.csv','w+')\n",
    "i = 0\n",
    "for string in test_strings:\n",
    "    f.write(\"\" + str(i)+',' + string + '\\n')\n",
    "    i += 1\n",
    "f.close()'''\n",
    "\n"
   ]
  },
  {
   "cell_type": "code",
   "execution_count": 19,
   "metadata": {},
   "outputs": [
    {
     "data": {
      "text/plain": [
       "'test = np.zeros((4,3))\\nprint(test)\\ntest[3,0] = 9\\nprint(test)'"
      ]
     },
     "execution_count": 19,
     "metadata": {},
     "output_type": "execute_result"
    }
   ],
   "source": [
    "score_dict = {}\n",
    "mismatch_penalty = -2\n",
    "score_dict[('A','A')] = 1\n",
    "score_dict[('A','C')] = mismatch_penalty\n",
    "score_dict[('A','G')] = mismatch_penalty\n",
    "score_dict[('A','T')] = mismatch_penalty\n",
    "score_dict[('C','A')] = mismatch_penalty\n",
    "score_dict[('C','C')] = 1\n",
    "score_dict[('C','G')] = mismatch_penalty\n",
    "score_dict[('C','T')] = mismatch_penalty\n",
    "score_dict[('G','A')] = mismatch_penalty\n",
    "score_dict[('G','C')] = mismatch_penalty\n",
    "score_dict[('G','G')] = 1\n",
    "score_dict[('G','T')] = mismatch_penalty\n",
    "score_dict[('T','A')] = mismatch_penalty\n",
    "score_dict[('T','C')] = mismatch_penalty\n",
    "score_dict[('T','G')] = mismatch_penalty\n",
    "score_dict[('T','T')] = 1\n",
    "\n",
    "\n",
    "#test matrix\n",
    "\n",
    "'''test = np.zeros((4,3))\n",
    "print(test)\n",
    "test[3,0] = 9\n",
    "print(test)'''"
   ]
  },
  {
   "cell_type": "code",
   "execution_count": null,
   "metadata": {},
   "outputs": [],
   "source": []
  },
  {
   "cell_type": "code",
   "execution_count": null,
   "metadata": {},
   "outputs": [],
   "source": []
  },
  {
   "cell_type": "code",
   "execution_count": null,
   "metadata": {},
   "outputs": [],
   "source": []
  },
  {
   "cell_type": "code",
   "execution_count": 20,
   "metadata": {},
   "outputs": [],
   "source": [
    "#performs SmithWaterman adaptation (glocal alignment). Returns score; no traceback\n",
    "    #FOR NOW: linear gap penalty d\n",
    "    #parameters: gap penalty, seq x (vertical), barcode reference (horizontal),  \n",
    "    #initialization: 0s in first row; (i,0) = -i*d\n",
    "def score_alignment(gap_penalty, sequence, barcode, score_dict):\n",
    "    gap_penalty = np.abs(gap_penalty)\n",
    "    #matrix\n",
    "    num_rows = len(sequence) +1\n",
    "    num_cols = len(barcode) +1\n",
    "    F = np.zeros((num_rows, num_cols))\n",
    "    #initialization\\n\",\n",
    "    #row 0 already initialized to zeros\n",
    "    for i in np.arange(1,num_rows):\n",
    "        F[i][0] = -1*i*gap_penalty\n",
    "\n",
    "    for i in np.arange(1,num_rows): # i represents the row\n",
    "        for j in np.arange(1,num_cols): #j represents the col\n",
    "#            print('i is', i)\n",
    "#            print('j is', j)\n",
    "#            print(\\\"looking at sequence char\\\", sequence[i-1])\n",
    "#            print(\\\"looking at barcode char\\\", barcode[j-1])\n",
    "            m = F[i-1][j-1] + score_dict[(sequence[i-1],barcode[j-1])]\n",
    "            ix = F[i-1][j] - gap_penalty\n",
    "            iy = F[i][j-1] - gap_penalty\n",
    "#            print('m is', m)\n",
    "#            print('ix is',ix)\n",
    "#            print('iy is', iy)\n",
    "\n",
    "            F[i][j] = max(m,ix,iy)\n",
    "    #now matrix is filled\\n\",\n",
    "    score = max(F[num_rows-1])\n",
    "    return score"
   ]
  },
  {
   "cell_type": "code",
   "execution_count": 21,
   "metadata": {},
   "outputs": [],
   "source": [
    "#compute s prime = score + log(pm/pr)\n",
    "#score: alignment score\n",
    "#pm: prior prob of m\n",
    "#pr: prior prob of r\n",
    "def compute_s_prime(score, pm, pr):\n",
    "    return score + np.log(pm/pr)"
   ]
  },
  {
   "cell_type": "code",
   "execution_count": 22,
   "metadata": {},
   "outputs": [],
   "source": [
    "#computes sigma function e^x / (1+e^x)\n",
    "def compute_sigma(x):\n",
    "    return np.exp(x)/(1.0+np.exp(x))"
   ]
  },
  {
   "cell_type": "code",
   "execution_count": 23,
   "metadata": {},
   "outputs": [],
   "source": [
    "#calculates score significance with Bayesian approach: P(M|x,y)\n",
    "#if P(M|x,y)>0.9, x and y related\n",
    "#possibilities for sequence of interest: 3' adapter, 3' barcode, \n",
    "                        #RNA insert, 5' barcode, 5' adapter. Only one is M\n",
    "#P(M) = 1/5 Match model\n",
    "#P(R) = 4/5 Random model\n",
    "def calc_score_sig(score):\n",
    "    pr = 4.0/5\n",
    "    pm = 1.0/5\n",
    "    s_prime = compute_s_prime(score, pr, pm)  \n",
    "    return compute_sigma(s_prime)"
   ]
  },
  {
   "cell_type": "code",
   "execution_count": 24,
   "metadata": {},
   "outputs": [],
   "source": [
    "#given sequence, of CCS, \n",
    "#determines whether it should be kept\n",
    "#True means keep, false means exclude\n",
    "\n",
    "#kept sequence must have 1 and 2 as follows:\n",
    "    #1. \n",
    "        #3' barcode in end region of sample (if sample is forward transcript)\n",
    "        #OR\n",
    "        #3' barcode reverse compliment in beginning region of sample (if sample is rev compliment)\n",
    "    #AND\n",
    "    #2. \n",
    "        #no 3' barcode in beginning region of sample (forward transcript)\n",
    "        #no 3' barcode reverse complement in end region of sample (rc transcript)\n",
    "\n",
    "#simplified. \n",
    "def should_we_keep(sample, barcode):\n",
    "    segments = get_beg_and_end(sample, len(barcode))\n",
    "    barcode_rc = gen_rev_complement(barcode)\n",
    "    #beg\n",
    "    #score_alignment(gap_penalty, sequence, barcode, score_dict):\n",
    "    barcode_beg_score_sig = calc_score_sig(score_alignment(1,segments[0],barcode,score_dict))\n",
    "    barcodeRC_beg_score_sig = calc_score_sig(score_alignment(1,segments[0],barcode_rc,score_dict))\n",
    "    barcode_end_score_sig = calc_score_sig(score_alignment(1,segments[1],barcode,score_dict))\n",
    "#    print(\"barcode beg score_sig:\",barcode_beg_score_sig)\n",
    "#    print(\"barcodeRC_beg_score_sig: \", barcodeRC_beg_score_sig)\n",
    "#    print(\"barcode_end_score_sig:\",barcode_end_score_sig)\n",
    "#    print()\n",
    "    \n",
    "    if barcode_beg_score_sig >0.99999999:\n",
    "#        print(\"beg: barcode in beg. Returning False.\")\n",
    "#        print()\n",
    "        return False            \n",
    "    elif  barcodeRC_beg_score_sig>0.99999999:\n",
    "#        print('beg: barcodeRC in beg. Returning True')\n",
    "#        print()\n",
    "        return True\n",
    "    #end                        \n",
    "    elif barcode_end_score_sig > 0.99999999:\n",
    "#        print(\"end: barcode in end. Returning True\")\n",
    "#        print()\n",
    "        return True\n",
    "    else: #if we've gottent to this point, either the barcode isn't in teh \n",
    "        #sample and/or the barcode rev comp is at the end, which we don't want\n",
    "#        print('end: Barcode not in end and/or barcode rc in end; Returning False')\n",
    "#        print()\n",
    "        return False\n",
    "        \n",
    "\n",
    "#test it\n",
    "#tests should_we_keep function given barcode and test strings\n",
    "def test_should_we_keep(test_strings, barcode): \n",
    "    keep_list = []\n",
    "    for entry in test_strings:\n",
    "        keep_list.append(should_we_keep(entry, barcode))\n",
    "    print('results ',keep_list)\n",
    "    print('expected',expected_keep_results)\n",
    "    \n",
    "#test_should_we_keep(test_4D01_strings, barcode_4)    \n",
    "a=1\n",
    "#endsIn3RC, begIn3RC, endIn3, begIn3, rand, endIn3\n",
    "#endIn3RC, begIn3RC, endIn3, begIn3, rand, endIn3"
   ]
  },
  {
   "cell_type": "code",
   "execution_count": 25,
   "metadata": {},
   "outputs": [],
   "source": [
    "#given csv file and desired file name for kept CCSs, filters CCS\n",
    "def filter_ccs(all_ccs_filename, filtered_filename, barcode):\n",
    "    retained_csv_list = []\n",
    "    with open(all_ccs_filename) as f:\n",
    "        for line in f:\n",
    "            line = line.strip()\n",
    "            line_list = line.split(',')\n",
    "            ccs = line_list[1]\n",
    "            if should_we_keep(ccs, barcode):\n",
    "                retained_csv_list.append(line_list)\n",
    "    f = open(filtered_filename, 'w+')\n",
    "    for entry in retained_csv_list:\n",
    "        f.write(entry[0] + ',' + entry[1])\n",
    "        f.write('\\n')\n",
    "    f.close()  "
   ]
  },
  {
   "cell_type": "code",
   "execution_count": 26,
   "metadata": {},
   "outputs": [
    {
     "data": {
      "text/plain": [
       "\"\\nfilter_ccs('test_strings.csv', 'filtered_test_strings.csv', barcode_2)\\n\""
      ]
     },
     "execution_count": 26,
     "metadata": {},
     "output_type": "execute_result"
    }
   ],
   "source": [
    "#test the function\n",
    "'''\n",
    "filter_ccs('test_strings.csv', 'filtered_test_strings.csv', barcode_2)\n",
    "'''"
   ]
  },
  {
   "cell_type": "code",
   "execution_count": null,
   "metadata": {},
   "outputs": [],
   "source": []
  },
  {
   "cell_type": "code",
   "execution_count": null,
   "metadata": {},
   "outputs": [],
   "source": []
  }
 ],
 "metadata": {
  "kernelspec": {
   "display_name": "Python 3",
   "language": "python",
   "name": "python3"
  },
  "language_info": {
   "codemirror_mode": {
    "name": "ipython",
    "version": 3
   },
   "file_extension": ".py",
   "mimetype": "text/x-python",
   "name": "python",
   "nbconvert_exporter": "python",
   "pygments_lexer": "ipython3",
   "version": "3.7.0"
  }
 },
 "nbformat": 4,
 "nbformat_minor": 2
}
