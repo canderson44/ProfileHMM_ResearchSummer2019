{
 "cells": [
  {
   "cell_type": "markdown",
   "metadata": {},
   "source": [
    "Program for separating useable ZMW CCSs from unusable. Useable if don't begin with 3' barcode and do end with 3' barcode. "
   ]
  },
  {
   "cell_type": "code",
   "execution_count": 47,
   "metadata": {},
   "outputs": [
    {
     "name": "stdout",
     "output_type": "stream",
     "text": [
      "len barcode 2 41\n",
      "len barcode 5 25\n",
      "line >left_adapter\n",
      "line ATCTCTCTCAACAACAACAACGGAGGAGGAGGAAAAGAGAGAGAT\n",
      "len two adapter:  45\n"
     ]
    }
   ],
   "source": [
    "import numpy as np\n",
    "import random as rd\n",
    "#barcodes_list elements: [5', CD1, CD2, CD3] \n",
    "                     #ie [5', 4_D01, 3_C01, 2_B01]\n",
    "barcodes_list = []\n",
    "with open('barcodes.fasta') as f: \n",
    "    for line in f:\n",
    "        line = line.strip()\n",
    "        if line[0]!='>':\n",
    "            barcodes_list.append(line)\n",
    "barcode_4 = barcodes_list[1]\n",
    "barcode_3 = barcodes_list[2]\n",
    "barcode_2 = barcodes_list[3]\n",
    "print('len barcode 2',len(barcode_2))\n",
    "print('len barcode 5', len(barcodes_list[0]))\n",
    "\n",
    "#adapter\n",
    "two_adapter = ''\n",
    "with open('two_B01.adapters.fasta') as f:\n",
    "    for line in f: \n",
    "        line = line.strip()\n",
    "        print('line',line)\n",
    "        if line[0]!='>':\n",
    "            two_adapter = line\n",
    "print(\"len two adapter: \",len(two_adapter))\n",
    "            "
   ]
  },
  {
   "cell_type": "code",
   "execution_count": 120,
   "metadata": {},
   "outputs": [],
   "source": [
    "#test \"CCSs\"\n",
    "nucleotides = ['A','C','G','T']\n",
    "\n",
    "\n",
    "test = \"\".join(rd.choices(nucleotides,k=10))\n",
    "\n",
    "\n",
    "\n",
    "[0,1,2,3,4,5,6,7,8,9,10]\n",
    "test_words = 'a'\n",
    "#keep\n",
    "test_5pBarcode3pBarcode = barcodes_list[0] + barcode_2\n",
    "#exclude\n",
    "test_3pBarcodeThenRandom= barcode_2 + \"\".join(rd.choices(nucleotides, k=(100-len(barcode_2))))\n",
    "#exclude\n",
    "test_random=\"\".join(rd.choices(nucleotides, k=(100)))\n",
    "#keep\n",
    "test_endIn3pBarcode= \"\".join(rd.choices(nucleotides, k=100-len(barcode_2))) + barcode_2\n",
    "test_strings = [test_5pBarcode3pBarcode, test_3pBarcodeThenRandom, test_random, test_endIn3pBarcode, 'K']\n",
    "#keep test_strings[0] and test_strings[3]"
   ]
  },
  {
   "cell_type": "code",
   "execution_count": 121,
   "metadata": {},
   "outputs": [],
   "source": [
    "#test csv file \n",
    "f = open('test_strings.csv','w+')\n",
    "i = 0\n",
    "for string in test_strings:\n",
    "    f.write(\"\" + str(i)+',' + string + '\\n')\n",
    "    i += 1\n",
    "f.close()\n",
    "\n"
   ]
  },
  {
   "cell_type": "code",
   "execution_count": 122,
   "metadata": {},
   "outputs": [],
   "source": [
    "#given sequence, and whether it's from beginning or end of CCS, \n",
    "#determines whether it should be kept\n",
    "#True means keep, false means exclude\n",
    "\n",
    "#simplified. \n",
    "#TODO: USE PAIRWISE ALIGNMENT SCORE\n",
    "#TODO: LOOK AT REVERSE COMPLIMENT\n",
    "def should_we_keep(isBeginning, sample):\n",
    "    print(\"sample is: \", sample)\n",
    "    if isBeginning:\n",
    "        if barcode_2 not in sample:\n",
    "            print('beg: barcode_2 not in sample; returning True')\n",
    "            return True\n",
    "        else:\n",
    "            print('beg: barcode_2 is isn sample; returning False')\n",
    "            return False\n",
    "    else: #looking at end of CCS\n",
    "        if barcode_2 in sample:\n",
    "            print('end: barcode_2 is in sample; returning True')\n",
    "            return True\n",
    "        else:\n",
    "            print('end: barcode_2 not in sample; returning False')\n",
    "            return False          "
   ]
  },
  {
   "cell_type": "code",
   "execution_count": 131,
   "metadata": {},
   "outputs": [],
   "source": [
    "#given csv file and desired file name for kept CCSs, filters CCS\n",
    "def filter_ccs(all_ccs_filename, filtered_filename):\n",
    "    retained_csv_list = []\n",
    "    with open(all_ccs_filename) as f:\n",
    "        for line in f:\n",
    "            line = line.strip()\n",
    "            line_list = line.split(',')\n",
    "            ccs = line_list[1]\n",
    "            beg_index = int(1.5*len(barcode_2))\n",
    "            end_index = int(len(ccs) - beg_index)\n",
    "            beginning_sample = ccs[:beg_index]\n",
    "            end_sample = ccs[end_index:]\n",
    "            if(should_we_keep(True,beginning_sample) and should_we_keep(False,end_sample)):\n",
    "                retained_csv_list.append(line_list)\n",
    "    f = open(filtered_filename, 'w+')\n",
    "    for entry in retained_csv_list:\n",
    "        f.write(entry[0] + ',' + entry[1])\n",
    "        f.write('\\n')\n",
    "    f.close()  "
   ]
  },
  {
   "cell_type": "code",
   "execution_count": 132,
   "metadata": {},
   "outputs": [
    {
     "name": "stdout",
     "output_type": "stream",
     "text": [
      "sample is:  AAGCAGTGGTATCAACGCAGAGTACAAGCAGTGGTATCAACGCAGAGTACACACATCTCGT\n",
      "beg: barcode_2 not in sample; returning True\n",
      "sample is:  GTGGTATCAACGCAGAGTACAAGCAGTGGTATCAACGCAGAGTACACACATCTCGTGAGAG\n",
      "end: barcode_2 is in sample; returning True\n",
      "sample is:  AAGCAGTGGTATCAACGCAGAGTACACACATCTCGTGAGAGAAGCTAGATTAACATCCGTC\n",
      "beg: barcode_2 is isn sample; returning False\n",
      "sample is:  GTCATGATCTTTTAGGGTTAATGACCGCCCCCCCGGCACGAACACAGATCTAACAATAGTT\n",
      "beg: barcode_2 not in sample; returning True\n",
      "sample is:  GAACACAGATCTAACAATAGTTTCATATTAAGCCGTTGAATACAACGTACCCCGGAGCTCG\n",
      "end: barcode_2 not in sample; returning False\n",
      "sample is:  GGAGTGAGAATAGTCCCAGAAAGTATAAAGTCGAATAGACGTCGCCCGTGCCTCCGCATAA\n",
      "beg: barcode_2 not in sample; returning True\n",
      "sample is:  CGTCGCCCGTGCCTCCGCATAAGCAGTGGTATCAACGCAGAGTACACACATCTCGTGAGAG\n",
      "end: barcode_2 is in sample; returning True\n",
      "sample is:  K\n",
      "beg: barcode_2 not in sample; returning True\n",
      "sample is:  K\n",
      "end: barcode_2 not in sample; returning False\n"
     ]
    }
   ],
   "source": [
    "#test the function\n",
    "filter_ccs('test_strings.csv', 'filtered_test_strings.csv')"
   ]
  },
  {
   "cell_type": "code",
   "execution_count": null,
   "metadata": {},
   "outputs": [],
   "source": []
  },
  {
   "cell_type": "code",
   "execution_count": null,
   "metadata": {},
   "outputs": [],
   "source": []
  }
 ],
 "metadata": {
  "kernelspec": {
   "display_name": "Python 3",
   "language": "python",
   "name": "python3"
  },
  "language_info": {
   "codemirror_mode": {
    "name": "ipython",
    "version": 3
   },
   "file_extension": ".py",
   "mimetype": "text/x-python",
   "name": "python",
   "nbconvert_exporter": "python",
   "pygments_lexer": "ipython3",
   "version": "3.7.0"
  }
 },
 "nbformat": 4,
 "nbformat_minor": 2
}
